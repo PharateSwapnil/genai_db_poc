{
 "cells": [
  {
   "cell_type": "markdown",
   "id": "a6c7637c-5d4d-4214-9d03-0e3775b1f5ab",
   "metadata": {},
   "source": [
    "## Setup question answering agent over RDF graph database using Langchain"
   ]
  },
  {
   "cell_type": "code",
   "execution_count": 1,
   "id": "6c97a17d-c5a4-4ca3-9535-d918155769a9",
   "metadata": {},
   "outputs": [],
   "source": [
    "from langchain_community.graphs.rdf_graph import RdfGraph\n",
    "from langchain_community.chains.graph_qa.sparql import GraphSparqlQAChain\n",
    "from langchain_google_genai import ChatGoogleGenerativeAI"
   ]
  },
  {
   "cell_type": "code",
   "execution_count": 2,
   "id": "1fb7c265-ccff-4116-962a-b8d6808571af",
   "metadata": {},
   "outputs": [
    {
     "data": {
      "text/plain": [
       "True"
      ]
     },
     "execution_count": 2,
     "metadata": {},
     "output_type": "execute_result"
    }
   ],
   "source": [
    "from dotenv import load_dotenv\n",
    "load_dotenv()"
   ]
  },
  {
   "cell_type": "markdown",
   "id": "e821e89e-502c-4783-b6bf-649ad515eb25",
   "metadata": {},
   "source": [
    "### Load RDF data into an RdfGraph"
   ]
  },
  {
   "cell_type": "code",
   "execution_count": 3,
   "id": "832ac226-0794-47d0-8d46-32b2b5836562",
   "metadata": {},
   "outputs": [],
   "source": [
    "GRAPH_PATH = \"/home/richhiey/Desktop/code/genai/genai_db_poc/opt_23.ttl\""
   ]
  },
  {
   "cell_type": "code",
   "execution_count": 4,
   "id": "6f0c812d-b4c5-45b4-aa15-8bd8b9dc2f15",
   "metadata": {},
   "outputs": [],
   "source": [
    "rdf_graph = RdfGraph(source_file=GRAPH_PATH, serialization=\"ttl\")"
   ]
  },
  {
   "cell_type": "code",
   "execution_count": 5,
   "id": "165b6ade-7958-42c0-a636-100bdb4bac08",
   "metadata": {},
   "outputs": [
    {
     "name": "stdout",
     "output_type": "stream",
     "text": [
      "None\n",
      "[(rdflib.term.URIRef('http://duke.com/model/123456789/transformer/123456789_DUMMY/transformer_unit_list'), rdflib.term.URIRef('http://duke.com/transformer_unit/123456789_DUMMY_A')), (rdflib.term.URIRef('http://duke.com/model/123456789/transformer/123456789_DUMMY/transformer_unit_list'), rdflib.term.URIRef('http://duke.com/transformer_unit/123456789_DUMMY_B')), (rdflib.term.URIRef('http://duke.com/model/123456789/transformer/123456789_DUMMY/transformer_unit_list'), rdflib.term.URIRef('http://duke.com/transformer_unit/123456789_DUMMY_C')), (rdflib.term.URIRef('http://duke.com/model/414970912/transformer/414970912_BK1/transformer_unit_list'), rdflib.term.URIRef('http://duke.com/transformer_unit/414970912_BK1_A')), (rdflib.term.URIRef('http://duke.com/model/414970912/transformer/414970912_BK1/transformer_unit_list'), rdflib.term.URIRef('http://duke.com/transformer_unit/414970912_BK1_B')), (rdflib.term.URIRef('http://duke.com/model/414970912/transformer/414970912_BK1/transformer_unit_list'), rdflib.term.URIRef('http://duke.com/transformer_unit/414970912_BK1_C'))]\n",
      "[(rdflib.term.URIRef('http://duke.com/model/123456789/transformer/123456789_DUMMY/transformer_unit_list'), rdflib.term.URIRef('http://duke.com/transformer_unit/123456789_DUMMY_A')), (rdflib.term.URIRef('http://duke.com/model/123456789/transformer/123456789_DUMMY/transformer_unit_list'), rdflib.term.URIRef('http://duke.com/transformer_unit/123456789_DUMMY_B')), (rdflib.term.URIRef('http://duke.com/model/123456789/transformer/123456789_DUMMY/transformer_unit_list'), rdflib.term.URIRef('http://duke.com/transformer_unit/123456789_DUMMY_C')), (rdflib.term.URIRef('http://duke.com/model/414970912/transformer/414970912_BK1/transformer_unit_list'), rdflib.term.URIRef('http://duke.com/transformer_unit/414970912_BK1_A')), (rdflib.term.URIRef('http://duke.com/model/414970912/transformer/414970912_BK1/transformer_unit_list'), rdflib.term.URIRef('http://duke.com/transformer_unit/414970912_BK1_B')), (rdflib.term.URIRef('http://duke.com/model/414970912/transformer/414970912_BK1/transformer_unit_list'), rdflib.term.URIRef('http://duke.com/transformer_unit/414970912_BK1_C'))]\n"
     ]
    }
   ],
   "source": [
    "print(rdf_graph.load_schema())\n",
    "print(rdf_graph.query(\"\"\"PREFIX duke: <http://example.org/duke#>\n",
    "\n",
    "SELECT ?transformer ?unit\n",
    "WHERE {\n",
    "  ?transformer duke:has_transformer_unit ?unit .\n",
    "}\"\"\"))\n",
    "\n",
    "print(rdf_graph.query(\"\"\"\n",
    "PREFIX rdf: <http://www.w3.org/1999/02/22-rdf-syntax-ns#>\n",
    "PREFIX duke: <http://example.org/duke#>\n",
    "\n",
    "SELECT ?transformer ?transformer_unit\n",
    "WHERE {\n",
    "  ?transformer duke:has_transformer_unit ?transformer_unit .\n",
    "}\n",
    "\"\"\"))"
   ]
  },
  {
   "cell_type": "markdown",
   "id": "a10c5f74-3d6a-43dc-b9c6-9ddb420e1d1a",
   "metadata": {},
   "source": [
    "### Run Gemini model over graph data to answer simple questions"
   ]
  },
  {
   "cell_type": "code",
   "execution_count": 6,
   "id": "913c73f2-2696-4d69-aa0a-22fa9f332fee",
   "metadata": {},
   "outputs": [],
   "source": [
    "model = ChatGoogleGenerativeAI(model=\"gemini-1.5-pro\")"
   ]
  },
  {
   "cell_type": "markdown",
   "id": "d521f9b3-4128-43db-9e1b-820c7a8b233e",
   "metadata": {},
   "source": [
    "Langchain provides a useful utility called GraphSparqlQAChain that sets up a sequence of steps to answer questions on graph data.\n",
    "https://python.langchain.com/v0.2/api_reference/_modules/langchain_community/chains/graph_qa/sparql.html#GraphSparqlQAChain\n",
    "\n",
    "The source for this class shows the various prompts used to setup an agent to generate valid SparQL and execute them against a graph database.\n",
    "\n",
    "Further, to implement RAG with graphs in Langchain, utilities such as CassandraGraphVectorStore are provided that can store documents with links between them.\n",
    "Use the appropriate GraphStore to store relationships and retrieve them as context when answering questions.\n",
    "https://python.langchain.com/api_reference/community/graph_vectorstores/langchain_community.graph_vectorstores.cassandra.CassandraGraphVectorStore.html"
   ]
  },
  {
   "cell_type": "code",
   "execution_count": 8,
   "id": "da7dbbd7-1acd-42f5-ac0e-7addd565be19",
   "metadata": {},
   "outputs": [
    {
     "name": "stdout",
     "output_type": "stream",
     "text": [
      "\n",
      "\n",
      "\u001b[1m> Entering new GraphSparqlQAChain chain...\u001b[0m\n",
      "Identified intent:\n",
      "\u001b[32;1m\u001b[1;3mSELECT\u001b[0m\n",
      "Generated SPARQL:\n",
      "\u001b[32;1m\u001b[1;3mPREFIX duke: <http://example.org/duke#>\n",
      "SELECT ?transformer ?unit\n",
      "WHERE {\n",
      "  ?transformer duke:has_transformer_unit ?unit .\n",
      "}\u001b[0m\n",
      "Full Context:\n",
      "\u001b[32;1m\u001b[1;3m[(rdflib.term.URIRef('http://duke.com/model/123456789/transformer/123456789_DUMMY/transformer_unit_list'), rdflib.term.URIRef('http://duke.com/transformer_unit/123456789_DUMMY_A')), (rdflib.term.URIRef('http://duke.com/model/123456789/transformer/123456789_DUMMY/transformer_unit_list'), rdflib.term.URIRef('http://duke.com/transformer_unit/123456789_DUMMY_B')), (rdflib.term.URIRef('http://duke.com/model/123456789/transformer/123456789_DUMMY/transformer_unit_list'), rdflib.term.URIRef('http://duke.com/transformer_unit/123456789_DUMMY_C')), (rdflib.term.URIRef('http://duke.com/model/414970912/transformer/414970912_BK1/transformer_unit_list'), rdflib.term.URIRef('http://duke.com/transformer_unit/414970912_BK1_A')), (rdflib.term.URIRef('http://duke.com/model/414970912/transformer/414970912_BK1/transformer_unit_list'), rdflib.term.URIRef('http://duke.com/transformer_unit/414970912_BK1_B')), (rdflib.term.URIRef('http://duke.com/model/414970912/transformer/414970912_BK1/transformer_unit_list'), rdflib.term.URIRef('http://duke.com/transformer_unit/414970912_BK1_C'))]\u001b[0m\n",
      "\n",
      "\u001b[1m> Finished chain.\u001b[0m\n"
     ]
    },
    {
     "data": {
      "text/plain": [
       "{'query': 'List all transformers and their respective units. Do not enclose the generated SparQL query in markdown text. Only return the raw SparQL query for execution.',\n",
       " 'result': 'The transformers and their units are as follows:\\n\\n* **Transformer 123456789_DUMMY:**\\n    * 123456789_DUMMY_A\\n    * 123456789_DUMMY_B\\n    * 123456789_DUMMY_C\\n* **Transformer 414970912_BK1:**\\n    * 414970912_BK1_A\\n    * 414970912_BK1_B\\n    * 414970912_BK1_C',\n",
       " 'sparql_query': 'PREFIX duke: <http://example.org/duke#>\\nSELECT ?transformer ?unit\\nWHERE {\\n  ?transformer duke:has_transformer_unit ?unit .\\n}'}"
      ]
     },
     "execution_count": 8,
     "metadata": {},
     "output_type": "execute_result"
    }
   ],
   "source": [
    "chain = GraphSparqlQAChain.from_llm(\n",
    "    graph=rdf_graph, llm=model, verbose=True, allow_dangerous_requests=True, return_sparql_query=True\n",
    ")\n",
    "response = chain.invoke({\"query\": \"List all transformers and their respective units. Do not enclose the generated SparQL query in markdown text. Only return the raw SparQL query for execution.\"})\n",
    "response"
   ]
  },
  {
   "cell_type": "code",
   "execution_count": null,
   "id": "6a370871-8556-4c0c-88bc-b7b472fb207e",
   "metadata": {},
   "outputs": [],
   "source": []
  }
 ],
 "metadata": {
  "kernelspec": {
   "display_name": "Python 3 (ipykernel)",
   "language": "python",
   "name": "python3"
  },
  "language_info": {
   "codemirror_mode": {
    "name": "ipython",
    "version": 3
   },
   "file_extension": ".py",
   "mimetype": "text/x-python",
   "name": "python",
   "nbconvert_exporter": "python",
   "pygments_lexer": "ipython3",
   "version": "3.11.11"
  }
 },
 "nbformat": 4,
 "nbformat_minor": 5
}
